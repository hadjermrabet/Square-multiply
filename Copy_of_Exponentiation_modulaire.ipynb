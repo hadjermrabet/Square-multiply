{
  "cells": [
    {
      "cell_type": "markdown",
      "id": "e7ffc782",
      "metadata": {
        "id": "e7ffc782"
      },
      "source": [
        "# l'exponentiation modulaire Square and multiply\n",
        "Master 1 SSI, Decembre. 2022\n",
        "— Mrabet Ameur Hadjer || 191931080198\n",
        "— Ali-khoudja Myriam  || 19199DZA6124"
      ]
    },
    {
      "cell_type": "markdown",
      "id": "b5556576",
      "metadata": {
        "id": "b5556576"
      },
      "source": [
        "# Voici le programme qui permet de calculer *l'exponentiation modulaire Square and multiply* : "
      ]
    },
    {
      "cell_type": "markdown",
      "id": "4d3843b9",
      "metadata": {
        "id": "4d3843b9"
      },
      "source": [
        "Voici en premier lieu la fonction définie : "
      ]
    },
    {
      "cell_type": "code",
      "execution_count": null,
      "id": "a1e42792",
      "metadata": {
        "id": "a1e42792"
      },
      "outputs": [],
      "source": [
        "def square_n_muliply(base, exp, mod):\n",
        "    exp = bin(exp)\n",
        "    value = base\n",
        "    print(\"h0\\n\" + str(base))\n",
        "    for i in range(3, len(exp)):\n",
        "        print(\"\\nh\" + str(i-2))\n",
        "        print(str(value%mod) + \"^2\" + \" = \"  + str(value*value%mod))\n",
        "        value = value * value\n",
        "        if (exp[i:i + 1] == '1'):\n",
        "            print(str(value%mod) + \"*\" + str(base) + \" mod \" + str(mod) + \" = \" +  str(value*base%mod))\n",
        "            value = value * base\n",
        "\n",
        "\n",
        "#def main():\n",
        "   # base = int(input(\"Enter base value: \"))\n",
        "    #exp = int(input(\"Enter exponent value: \"))\n",
        "    #mod = int(input(\"Enter modulus value: \"))\n",
        "    #print(\"\\n\" + str(square_n_muliply(base, exp, mod)))\n",
        "\n",
        "#if _name_ == '_main_':\n",
        "    #main()\n"
      ]
    },
    {
      "cell_type": "markdown",
      "source": [
        "#les étapes de l'algorithme square and multiply \n",
        "\n",
        "\n",
        "---\n",
        "\n",
        "\n",
        " - Conversion de l'exposant en binaire: L'exposant est converti en un nombre binaire, ce qui nous permet de travailler avec des bits plutôt que des nombres entiers.\n",
        "\n",
        "\n",
        "\n",
        "\n",
        "- Initialisation de la valeur: La valeur initiale est définie sur la base.\n",
        "\n",
        "\n",
        "\n",
        "\n",
        "- Boucle for: La boucle for parcourt les bits du nombre binaire exposant, en commençant par le bit de poids fort.\n",
        "\n",
        "\n",
        "\n",
        "\n",
        "- Puissance de 2: La valeur est multipliée par elle-même pour la première étape de l'exponentiation rapide.\n",
        "\n",
        "\n",
        "\n",
        "\n",
        "- Multiplication avec la base: Si le bit actuel est 1, la valeur est multipliée par la base. Cette étape permet de faire des calculs plus rapidement que si on devait les faire à chaque étape.\n",
        "\n",
        "\n",
        "\n",
        "\n",
        "- Modulo mod: Si nécessaire, la valeur est modulo mod pour s'assurer que le résultat est dans les limites de l'espace de l'application.\n",
        "\n",
        "- Retour du résultat: Le résultat final est retourné en fin de boucle."
      ],
      "metadata": {
        "id": "HgSO_fjhwOqf"
      },
      "id": "HgSO_fjhwOqf"
    },
    {
      "cell_type": "markdown",
      "id": "7f7e4710",
      "metadata": {
        "id": "7f7e4710"
      },
      "source": [
        "Voici maintenant les variables à ajouter à notre fonction en les introduisant ( par l'utilisateur ) pour pouvoir faire le calcul"
      ]
    },
    {
      "cell_type": "code",
      "execution_count": null,
      "id": "25689d8c",
      "metadata": {
        "colab": {
          "base_uri": "https://localhost:8080/"
        },
        "id": "25689d8c",
        "outputId": "24e508b4-f85f-4565-a34e-83b82adf671d"
      },
      "outputs": [
        {
          "output_type": "stream",
          "name": "stdout",
          "text": [
            "Entrer la valeur de la base : 222\n",
            "Entrer la valeur de l'exposant : 333\n",
            "Entrer la valeur du modulo: 71\n",
            "h0\n",
            "222\n",
            "\n",
            "h1\n",
            "9^2 = 10\n",
            "\n",
            "h2\n",
            "10^2 = 29\n",
            "29*222 mod 71 = 48\n",
            "\n",
            "h3\n",
            "48^2 = 32\n",
            "\n",
            "h4\n",
            "32^2 = 30\n",
            "\n",
            "h5\n",
            "30^2 = 48\n",
            "48*222 mod 71 = 6\n",
            "\n",
            "h6\n",
            "6^2 = 36\n",
            "36*222 mod 71 = 40\n",
            "\n",
            "h7\n",
            "40^2 = 38\n",
            "\n",
            "h8\n",
            "38^2 = 24\n",
            "24*222 mod 71 = 3\n",
            "\n",
            "None\n",
            "h0\n",
            "222\n",
            "\n",
            "h1\n",
            "9^2 = 10\n",
            "\n",
            "h2\n",
            "10^2 = 29\n",
            "29*222 mod 71 = 48\n",
            "\n",
            "h3\n",
            "48^2 = 32\n",
            "\n",
            "h4\n",
            "32^2 = 30\n",
            "\n",
            "h5\n",
            "30^2 = 48\n",
            "48*222 mod 71 = 6\n",
            "\n",
            "h6\n",
            "6^2 = 36\n",
            "36*222 mod 71 = 40\n",
            "\n",
            "h7\n",
            "40^2 = 38\n",
            "\n",
            "h8\n",
            "38^2 = 24\n",
            "24*222 mod 71 = 3\n"
          ]
        }
      ],
      "source": [
        "    base = int(input(\"Entrer la valeur de la base : \"))\n",
        "    exp = int(input(\"Entrer la valeur de l'exposant : \"))\n",
        "    mod = int(input(\"Entrer la valeur du modulo: \"))\n",
        "    print(\"\\n\" + str(square_n_muliply(base, exp, mod)))\n",
        "\n",
        "    square_n_muliply(base,exp,mod)"
      ]
    },
    {
      "cell_type": "code",
      "execution_count": null,
      "id": "a1c478f4",
      "metadata": {
        "id": "a1c478f4"
      },
      "outputs": [],
      "source": []
    }
  ],
  "metadata": {
    "kernelspec": {
      "display_name": "Python 3",
      "language": "python",
      "name": "python3"
    },
    "language_info": {
      "codemirror_mode": {
        "name": "ipython",
        "version": 3
      },
      "file_extension": ".py",
      "mimetype": "text/x-python",
      "name": "python",
      "nbconvert_exporter": "python",
      "pygments_lexer": "ipython3",
      "version": "3.10.9 (tags/v3.10.9:1dd9be6, Dec  6 2022, 20:01:21) [MSC v.1934 64 bit (AMD64)]"
    },
    "vscode": {
      "interpreter": {
        "hash": "854ad7b50770bedaf0cab730b1aaabb765566ea98036f134b639e260bede141e"
      }
    },
    "colab": {
      "provenance": []
    }
  },
  "nbformat": 4,
  "nbformat_minor": 5
}